{
  "nbformat": 4,
  "nbformat_minor": 0,
  "metadata": {
    "colab": {
      "provenance": []
    },
    "kernelspec": {
      "name": "python3",
      "display_name": "Python 3"
    },
    "language_info": {
      "name": "python"
    }
  },
  "cells": [
    {
      "cell_type": "code",
      "execution_count": 1,
      "metadata": {
        "colab": {
          "base_uri": "https://localhost:8080/"
        },
        "id": "5-AP6CAjtJCP",
        "outputId": "b7dcc5f0-8fee-49c4-a871-e90c23f32dd0"
      },
      "outputs": [
        {
          "output_type": "stream",
          "name": "stdout",
          "text": [
            "\"The quick brown fox jumps over the little lazy dog\"\n",
            "\n",
            "is a pangram\n"
          ]
        }
      ],
      "source": [
        "def checkPangram(s):\n",
        "    List = []\n",
        "# create list of 26 characters and set false each entry\n",
        "    for i in range(26):\n",
        "        List.append(False)\n",
        " # converting the sentence to lowercase and iterating\n",
        " # over the sentence\n",
        "    for c in s.lower():\n",
        "        if not c == \" \":\n",
        " # make the corresponding entry True\n",
        "             List[ord(c) - ord('a')] = True\n",
        " # check if any character is missing then return False\n",
        "    for ch in List:\n",
        "        if ch == False:\n",
        "            return False\n",
        "    return True\n",
        "# Driver Program to test above functions\n",
        "sentence = \"The quick brown fox jumps over the little lazy dog\"\n",
        "if (checkPangram(sentence)):\n",
        "    print('\"'+sentence+'\"')\n",
        "    print(\"\\nis a pangram\")\n",
        "else:\n",
        "    print('\"'+sentence+'\"')\n",
        "    print(\"\\nis not a pangram\")"
      ]
    }
  ]
}